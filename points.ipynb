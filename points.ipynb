{
 "cells": [
  {
   "cell_type": "code",
   "execution_count": 1,
   "id": "25ccabf3-1fc5-4fb1-b97a-a31c036af013",
   "metadata": {},
   "outputs": [],
   "source": [
    "import numpy as np\n",
    "from sklearn.datasets import make_blobs\n",
    "from sklearn.utils import shuffle\n",
    "import matplotlib.pyplot as plt\n",
    "import pandas as pd\n",
    "import random\n",
    "from tqdm import tqdm\n",
    "\n",
    "from korgorusz.optimizers import SGDOptimizer\n",
    "from korgorusz.layers import *\n",
    "from korgorusz.utils import *"
   ]
  },
  {
   "cell_type": "code",
   "execution_count": 2,
   "id": "1016c681-b5c9-4af5-9b99-0b38798fb849",
   "metadata": {},
   "outputs": [
    {
     "data": {
      "image/png": "[encoded data removed]",
      "text/plain": [
       "<Figure size 432x288 with 1 Axes>"
      ]
     },
     "metadata": {
      "needs_background": "light"
     },
     "output_type": "display_data"
    }
   ],
   "source": [
    "classes = 5\n",
    "x, y = make_blobs(n_samples=256, centers=classes, n_features=2)\n",
    "df = pd.DataFrame(dict(x=x[:,0], y=x[:,1], label=y))\n",
    "colors = {0:'red', 1:'blue', 2:'green',3:'yellow',4:'black'}\n",
    "fig, ax = plt.subplots()\n",
    "grouped = df.groupby('label')\n",
    "for key, group in grouped:\n",
    "    group.plot(ax=ax, kind='scatter', x='x', y='y', label=key, color=colors[key])\n",
    "plt.show()\n",
    "y=one_hot(y,classes)\n",
    "x,y = shuffle(x,y)\n",
    "test_size=25\n",
    "x,y,x_test,y_test=x[:-test_size],y[:-test_size],x[:test_size],y[:test_size]"
   ]
  },
  {
   "cell_type": "code",
   "execution_count": 3,
   "id": "25f5922a-faaa-4a61-b1c4-9de3bc860bc3",
   "metadata": {},
   "outputs": [
    {
     "data": {
      "text/plain": [
       "((231, 2), (231, 5), (25, 2), (25, 5))"
      ]
     },
     "execution_count": 3,
     "metadata": {},
     "output_type": "execute_result"
    }
   ],
   "source": [
    "x.shape,y.shape,x_test.shape,y_test.shape"
   ]
  },
  {
   "cell_type": "code",
   "execution_count": 4,
   "id": "345f23eb-3d28-4b32-92cb-e0ce4492616b",
   "metadata": {},
   "outputs": [],
   "source": [
    "class ModelLearn(Model):\n",
    "    def __init__(self,layers):\n",
    "        super().__init__()\n",
    "        self.layers = layers\n",
    "\n",
    "    def forward(self, X):\n",
    "        for l in self.layers:\n",
    "            X, b = l.forward(X)\n",
    "            self.add_derivative(b)\n",
    "        return X"
   ]
  },
  {
   "cell_type": "code",
   "execution_count": 5,
   "id": "32023d18-9035-4e3f-a62d-42317fa50fb0",
   "metadata": {},
   "outputs": [],
   "source": [
    "lr = 0.01\n",
    "bs = 16\n",
    "epoch = 20"
   ]
  },
  {
   "cell_type": "code",
   "execution_count": 6,
   "id": "9bbf9eb7-2395-4ca4-8af9-d5f0d08b6158",
   "metadata": {},
   "outputs": [
    {
     "name": "stderr",
     "output_type": "stream",
     "text": [
      "100%|██████████| 20/20 [00:00<00:00, 489.27it/s]\n"
     ]
    }
   ],
   "source": [
    "ml = ModelLearn([\n",
    "    Linear(2, 16),\n",
    "    ReLU(),\n",
    "    Linear(16, 16),\n",
    "    ReLU(),\n",
    "    Linear(16, 5),\n",
    "    Softmax()])\n",
    "optim = SGDOptimizer(lr=lr)\n",
    "loss_f = mse\n",
    "losses = []\n",
    "\n",
    "for e in tqdm(range(epoch)):\n",
    "    running_loss=0.0\n",
    "    x_num =0.0\n",
    "    for x_b,y_b in minibatch(x,y,bs):\n",
    "        pred = ml.forward(x_b)\n",
    "        loss, d = loss_f(pred,y_b)\n",
    "        running_loss+=loss\n",
    "        x_num+=y_b.shape[0]\n",
    "        ml.backpropagation(d)\n",
    "        ml.update(ml.layers,optim)\n",
    "    losses.append(running_loss/x_num)"
   ]
  },
  {
   "cell_type": "code",
   "execution_count": 7,
   "id": "2f38f57e-78d9-46b3-8f3b-8437133b876c",
   "metadata": {},
   "outputs": [
    {
     "data": {
      "image/png": "[encoded data removed]",
      "text/plain": [
       "<Figure size 432x288 with 1 Axes>"
      ]
     },
     "metadata": {
      "needs_background": "light"
     },
     "output_type": "display_data"
    }
   ],
   "source": [
    "plt.plot(losses)\n",
    "plt.show()"
   ]
  },
  {
   "cell_type": "code",
   "execution_count": 8,
   "id": "55fc0f82-9170-461a-afe8-9c1eaf0bc6c4",
   "metadata": {},
   "outputs": [
    {
     "name": "stderr",
     "output_type": "stream",
     "text": [
      "100%|██████████| 25/25 [00:00<00:00, 13875.56it/s]"
     ]
    },
    {
     "name": "stdout",
     "output_type": "stream",
     "text": [
      "8.0%,  {1: 1, 2: 1} 2\n"
     ]
    },
    {
     "name": "stderr",
     "output_type": "stream",
     "text": [
      "\n"
     ]
    }
   ],
   "source": [
    "wrong = 0\n",
    "classes = dict()\n",
    "for i in tqdm(range(len(x_test))):\n",
    "    pred = ml.forward(x_test[i].reshape(1, -1))\n",
    "    pred = pred.reshape(-1)\n",
    "    if np.argmax(y_test[i]) != np.argmax(pred):\n",
    "        wrong += 1\n",
    "        if np.argmax(y_test[i]) in classes:\n",
    "            classes[np.argmax(y_test[i])] += 1\n",
    "        else:\n",
    "            classes[np.argmax(y_test[i])] = 1\n",
    "print(f\"{round((wrong/len(x_test))*100, 2)}%, \", classes, wrong)"
   ]
  },
  {
   "cell_type": "code",
   "execution_count": null,
   "id": "5bb774e3-983a-462e-bd8b-128e5d3137b1",
   "metadata": {},
   "outputs": [],
   "source": []
  }
 ],
 "metadata": {
  "kernelspec": {
   "display_name": "Python 3",
   "language": "python",
   "name": "python3"
  },
  "language_info": {
   "codemirror_mode": {
    "name": "ipython",
    "version": 3
   },
   "file_extension": ".py",
   "mimetype": "text/x-python",
   "name": "python",
   "nbconvert_exporter": "python",
   "pygments_lexer": "ipython3",
   "version": "3.9.4"
  }
 },
 "nbformat": 4,
 "nbformat_minor": 5
}
